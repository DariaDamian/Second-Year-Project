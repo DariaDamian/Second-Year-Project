{
 "cells": [
  {
   "cell_type": "code",
   "execution_count": null,
   "metadata": {
    "cell_id": "1597881be51b4f4e86a1902c9adc17db",
    "deepnote_cell_type": "code",
    "deepnote_to_be_reexecuted": false,
    "execution_millis": 3558,
    "execution_start": 1685080830754,
    "scrolled": true,
    "source_hash": "2aabc815"
   },
   "outputs": [],
   "source": [
    "import torch\n",
    "from torch import Tensor, nn\n",
    "import pandas as pd\n",
    "import os\n",
    "import sys\n",
    "sys.path.append(\"nlp_project\")\n",
    "import numpy as np\n",
    "import matplotlib.pyplot as plt\n",
    "from nlp_project.scripts.read_write_data import load_data"
   ]
  },
  {
   "cell_type": "code",
   "execution_count": null,
   "metadata": {
    "cell_id": "4a2abff619e0480c84aaeb3669053418",
    "deepnote_cell_type": "code",
    "deepnote_to_be_reexecuted": false,
    "execution_millis": 166,
    "execution_start": 1685080834319,
    "source_hash": "8d06a0e4"
   },
   "outputs": [],
   "source": [
    "DATA_BASE_PATH = os.path.join(os.getcwd(), 'nlp_project', 'data')\n",
    "MODELS_BASE_PATH = os.path.join(os.getcwd(), 'nlp_project', 'models')\n",
    "\n",
    "# models\n",
    "EXPERIMENT1_PATH = os.path.join(MODELS_BASE_PATH, \"Baseline.pt\")\n",
    "EXPERIMENT2_PATH = os.path.join(MODELS_BASE_PATH, \"Experiment2.pt\")\n",
    "EXPERIMENT3_PATH = os.path.join(MODELS_BASE_PATH, \"Experiment3.pt\")\n",
    "EXPERIMENT4_PATH = os.path.join(MODELS_BASE_PATH, \"Experiment4.pt\")\n",
    "\n",
    "# test data\n",
    "TEST_SET_PATH = os.path.join(DATA_BASE_PATH, \"processed\", \"test.conll\")\n",
    "test_docs, test_labels, test_bio, test_domain = load_data(os.path.join(os.getcwd(), TEST_SET_PATH))"
   ]
  },
  {
   "cell_type": "markdown",
   "metadata": {
    "cell_id": "e7f763a18ba94b31b9a77791463f94db",
    "deepnote_cell_type": "text-cell-p",
    "formattedRanges": []
   },
   "source": [
    "## Getting train, dev and test scores:\n",
    "### P.S: To run this you need to download the [Google News Word2vec mode](https://drive.google.com/file/d/0B7XkCwpI5KDYNlNUTTlSS21pQmM/view?usp=sharing&resourcekey=0-wjGZdNAUop6WykTtMip30g), name it \"GoogleNews-50k.bin\", and place it in /notebooks/nlp-project/models/."
   ]
  },
  {
   "cell_type": "code",
   "execution_count": null,
   "metadata": {
    "cell_id": "eadb98d3fe5b4d7e8a4e0e377f9172c9",
    "deepnote_cell_type": "code",
    "deepnote_to_be_reexecuted": false,
    "execution_millis": 6330,
    "execution_start": 1685080834490,
    "source_hash": "81786fbf"
   },
   "outputs": [],
   "source": [
    "e1_model = torch.load(EXPERIMENT1_PATH)\n",
    "e2_model = torch.load(EXPERIMENT2_PATH)\n",
    "e3_model = torch.load(EXPERIMENT3_PATH)\n",
    "e4_model = torch.load(EXPERIMENT4_PATH)"
   ]
  },
  {
   "cell_type": "code",
   "execution_count": null,
   "metadata": {
    "cell_id": "325a0aef5ee544e6ad107f83b993655b",
    "deepnote_cell_type": "code",
    "deepnote_to_be_reexecuted": false,
    "execution_millis": 38792,
    "execution_start": 1685080840893,
    "source_hash": "252649f8"
   },
   "outputs": [],
   "source": [
    "e1_errors = e1_model.evaluate(test_docs, test_labels, test_bio, test_domain)\n",
    "e2_errors = e2_model.evaluate(test_docs, test_labels, test_bio, test_domain)\n",
    "e3_errors = e3_model.evaluate(test_docs, test_labels, test_bio, test_domain)\n",
    "e4_errors = e4_model.evaluate(test_docs, test_labels, test_bio, test_domain)"
   ]
  },
  {
   "cell_type": "code",
   "execution_count": null,
   "metadata": {
    "cell_id": "8534a16b74df4160b3da3b1b5e57e7b5",
    "deepnote_cell_type": "code",
    "deepnote_to_be_reexecuted": false,
    "execution_millis": 56,
    "execution_start": 1685080879684,
    "source_hash": "76ac7b3f"
   },
   "outputs": [],
   "source": [
    "e1_errors.head()"
   ]
  },
  {
   "cell_type": "code",
   "execution_count": null,
   "metadata": {
    "cell_id": "ea4cece0a272467fbacaf8ff0ca7d377",
    "deepnote_cell_type": "code",
    "deepnote_to_be_reexecuted": false,
    "execution_millis": 42,
    "execution_start": 1685080879749,
    "source_hash": "3e4c3dd0"
   },
   "outputs": [],
   "source": [
    "replacement = {\n",
    "    'B-PER': 'PER',\n",
    "    'I-PER': 'PER',\n",
    "    'B-LOC': 'LOC',\n",
    "    'O': 'O',\n",
    "    'B-MISC': 'MISC',\n",
    "    'B-ORG': 'ORG',\n",
    "    'I-ORG': 'ORG',\n",
    "    'I-LOC': 'LOC',\n",
    "    'B-LOCderiv': 'MISC',\n",
    "    'I-MISC': 'MISC',\n",
    "    'B-LOCpart': 'LOC',\n",
    "    'B-ORGpart': 'ORG',\n",
    "    'B-MISCpart': 'MISC',\n",
    "    'I-MISCpart': 'MISC',\n",
    "    'I-LOCpart': 'LOC',\n",
    "    'B-PERpart': 'PER',\n",
    "    'B-ORGderiv': 'ORG'\n",
    "}\n",
    "\n",
    "e1_errors[\"general_BIO\"] = e1_errors.explode(\"entity_BIO\").replace(to_replace=replacement).pipe(lambda df_: df_[~df_.index.duplicated(keep='first')]).entity_BIO\n",
    "e2_errors[\"general_BIO\"] = e2_errors.explode(\"entity_BIO\").replace(to_replace=replacement).pipe(lambda df_: df_[~df_.index.duplicated(keep='first')]).entity_BIO\n",
    "e3_errors[\"general_BIO\"] = e3_errors.explode(\"entity_BIO\").replace(to_replace=replacement).pipe(lambda df_: df_[~df_.index.duplicated(keep='first')]).entity_BIO\n",
    "e4_errors[\"general_BIO\"] = e4_errors.explode(\"entity_BIO\").replace(to_replace=replacement).pipe(lambda df_: df_[~df_.index.duplicated(keep='first')]).entity_BIO\n"
   ]
  },
  {
   "cell_type": "code",
   "execution_count": null,
   "metadata": {
    "cell_id": "2bf2d90079584712ba226e13738fdbd1",
    "deepnote_cell_type": "code",
    "deepnote_to_be_reexecuted": false,
    "execution_millis": 42,
    "execution_start": 1685080879795,
    "source_hash": "38330b81"
   },
   "outputs": [],
   "source": [
    "e1_errors"
   ]
  },
  {
   "cell_type": "code",
   "execution_count": null,
   "metadata": {
    "cell_id": "22e2d18e6bed4e0392c235e879a1f9cb",
    "deepnote_cell_type": "code",
    "deepnote_to_be_reexecuted": false,
    "execution_millis": 7,
    "execution_start": 1685080879847,
    "source_hash": "b132dd99"
   },
   "outputs": [],
   "source": [
    "e1_err = e1_errors.groupby(\"error_type\").count().entity.to_dict()\n",
    "e2_err = e2_errors.groupby(\"error_type\").count().entity.to_dict()\n",
    "e3_err = e3_errors.groupby(\"error_type\").count().entity.to_dict()\n",
    "e4_err = e4_errors.groupby(\"error_type\").count().entity.to_dict()\n",
    "\n",
    "errors = {}\n",
    "for (e1, e1_val), (e2, e2_val), (e3, e3_val),(e4, e4_val) in zip(e1_err.items(), e2_err.items(), e3_err.items(), e4_err.items()):\n",
    "    errors[e1] = [e1_val, e2_val, e3_val, e4_val]"
   ]
  },
  {
   "cell_type": "code",
   "execution_count": null,
   "metadata": {
    "cell_id": "393f7987af69410cb8895965b533ced8",
    "deepnote_cell_type": "code",
    "deepnote_to_be_reexecuted": false,
    "execution_millis": 2,
    "execution_start": 1685080879877,
    "source_hash": "6791c755"
   },
   "outputs": [],
   "source": [
    "errors"
   ]
  },
  {
   "cell_type": "code",
   "execution_count": null,
   "metadata": {
    "cell_id": "5ff7d51906394cef85ab7d78a3b1a59f",
    "deepnote_cell_type": "code",
    "deepnote_to_be_reexecuted": false,
    "execution_millis": 465,
    "execution_start": 1685080879891,
    "source_hash": "520b70a"
   },
   "outputs": [],
   "source": [
    "all_bio_errors = pd.DataFrame(pd.concat([e1_errors['entity_BIO'],e2_errors['entity_BIO'],e3_errors['entity_BIO'],e4_errors['entity_BIO']]).explode())\n",
    "unique, counts = np.unique(all_bio_errors, return_counts=True)\n",
    "# arr1inds = arr1.argsort()\n",
    "# sorted_arr1 = arr1[arr1inds[::-1]]\n",
    "# sorted_arr2 = arr2[arr1inds[::-1]]\n",
    "indeces = counts.argsort()\n",
    "counts=counts[indeces[::-1]]\n",
    "unique = unique[indeces[::-1]]\n",
    "# unique.sort()\n",
    "plt.bar(unique, height=counts)\n",
    "plt.xticks(rotation=90);"
   ]
  },
  {
   "cell_type": "code",
   "execution_count": null,
   "metadata": {
    "cell_id": "30f59c4048154b35b4e8e0b31bf28eb3",
    "deepnote_cell_type": "code",
    "deepnote_to_be_reexecuted": false,
    "execution_millis": 407,
    "execution_start": 1685081159503,
    "source_hash": "9f985635"
   },
   "outputs": [],
   "source": [
    "experiments = (\"E1\", \"E2\", \"E3\", \"E4\")\n",
    "\n",
    "x = np.arange(len(experiments))  # the label locations\n",
    "width = 0.2 # the width of the bars\n",
    "multiplier = 0\n",
    "\n",
    "fig, ax = plt.subplots(layout='constrained')\n",
    "\n",
    "for attribute, measurement in errors.items():\n",
    "    offset = width * multiplier\n",
    "    rects = ax.bar(x + offset, measurement, width, label=attribute)\n",
    "    # ax.bar_label(rects, padding=3)\n",
    "    multiplier += 1\n",
    "\n",
    "# Add some text for labels, title and custom x-axis tick labels, etc.\n",
    "ax.set_ylabel('Number of errors', fontsize=14)\n",
    "# ax.set_title('Error types by experiment')\n",
    "ax.set_xticks(x + width, experiments, fontsize=14)\n",
    "ax.legend(loc='upper left', ncols=3, prop={'size': 14})\n",
    "ax.set_ylim(0, 400)\n",
    "\n",
    "plt.show()"
   ]
  },
  {
   "cell_type": "markdown",
   "metadata": {
    "created_in_deepnote_cell": true,
    "deepnote_cell_type": "markdown"
   },
   "source": [
    "<a style='text-decoration:none;line-height:16px;display:flex;color:#5B5B62;padding:10px;justify-content:end;' href='https://deepnote.com?utm_source=created-in-deepnote-cell&projectId=b2f14aee-af04-4db5-af55-57a3a58b9f40' target=\"_blank\">\n",
    "<img alt='Created in deepnote.com' style='display:inline;max-height:16px;margin:0px;margin-right:7.5px;' src='data:image/svg+xml;base64,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' > </img>\n",
    "Created in <span style='font-weight:600;margin-left:4px;'>Deepnote</span></a>"
   ]
  }
 ],
 "metadata": {
  "deepnote": {},
  "deepnote_execution_queue": [],
  "deepnote_notebook_id": "85b4785461b84510aa8b60428aa4c1b9",
  "deepnote_persisted_session": {
   "createdAt": "2023-05-25T21:40:00.439Z"
  },
  "kernelspec": {
   "display_name": "Python 3 (ipykernel)",
   "language": "python",
   "name": "python3"
  },
  "language_info": {
   "codemirror_mode": {
    "name": "ipython",
    "version": 3
   },
   "file_extension": ".py",
   "mimetype": "text/x-python",
   "name": "python",
   "nbconvert_exporter": "python",
   "pygments_lexer": "ipython3",
   "version": "3.9.13"
  }
 },
 "nbformat": 4,
 "nbformat_minor": 1
}
