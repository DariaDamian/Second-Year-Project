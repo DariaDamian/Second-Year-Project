{
 "cells": [
  {
   "cell_type": "code",
   "execution_count": 1,
   "metadata": {
    "cell_id": "4e07c06972574f56940c8556d5a8d821",
    "deepnote_cell_type": "code",
    "deepnote_to_be_reexecuted": false,
    "execution_millis": 10138,
    "execution_start": 1685038740789,
    "source_hash": "2ed02694"
   },
   "outputs": [
    {
     "name": "stderr",
     "output_type": "stream",
     "text": [
      "c:\\users\\krzys\\appdata\\local\\programs\\python\\python37\\lib\\site-packages\\tqdm\\auto.py:22: TqdmWarning: IProgress not found. Please update jupyter and ipywidgets. See https://ipywidgets.readthedocs.io/en/stable/user_install.html\n",
      "  from .autonotebook import tqdm as notebook_tqdm\n"
     ]
    }
   ],
   "source": [
    "import codecs\n",
    "from dataclasses import dataclass\n",
    "from typing import List, Dict, Any\n",
    "\n",
    "import numpy as np\n",
    "import pandas as pd\n",
    "import torch\n",
    "import torch.nn.functional as F\n",
    "from torch import Tensor\n",
    "from torch import nn\n",
    "import time\n",
    "\n",
    "import random\n",
    "random.seed(0)\n",
    "torch.manual_seed(0)\n",
    "\n",
    "# from transformers import BertTokenizer, BertModel\n",
    "# bert_tokenizer = BertTokenizer.from_pretrained(\"bert-base-cased\")\n",
    "# bert_model = BertModel.from_pretrained(\"bert-base-cased\")\n",
    "import matplotlib.pyplot as plt\n",
    "\n",
    "import sys\n",
    "sys.path.append(\"nlp_project\")\n",
    "from nlp_project.scripts.read_write_data import read_processed_data, write_baseline_pred\n",
    "# from scripts.evaluation_functions import f1_score, tag_accuracy\n",
    "from nlp_project.models.classes import DataIterator, Batch, Train1BiLSTM\n",
    "\n",
    "import gensim.models\n",
    "GoogleEmbs = gensim.models.KeyedVectors.load_word2vec_format(\n",
    "                                'nlp_project/models/GoogleNews-50k.bin', binary=True)\n",
    "\n",
    "import matplotlib.pyplot as plt"
   ]
  },
  {
   "cell_type": "code",
   "execution_count": 2,
   "metadata": {
    "cell_id": "fc1bd7847d6d48e2895b02bfb4b781ae",
    "deepnote_cell_type": "code",
    "deepnote_to_be_reexecuted": false,
    "execution_millis": 378,
    "execution_start": 1685038767759,
    "source_hash": "b4091ba8"
   },
   "outputs": [],
   "source": [
    "# TRAIN_PATH = \"nlp_project/data/processed/train.conll\"\n",
    "TRAIN_PATH = \"nlp_project/data/processed/train.conll\"\n",
    "DEV_PATH = \"nlp_project/data/processed/dev.conll\"\n",
    "TEST_PATH = \"nlp_project/data/processed/test.conll\"\n",
    "\n",
    "# Loading data\n",
    "\n",
    "x_train = []\n",
    "y_train = []\n",
    "for words, labels, _, _ in read_processed_data(TRAIN_PATH):\n",
    "    x_train.append(words)\n",
    "    y_train.append(labels)\n",
    "\n",
    "x_dev = []\n",
    "y_dev = []\n",
    "for words, labels, _, _ in read_processed_data(DEV_PATH):\n",
    "    x_dev.append(words)\n",
    "    y_dev.append(labels)"
   ]
  },
  {
   "cell_type": "markdown",
   "metadata": {
    "cell_id": "c19f28d122804b85a8a472a3f6fe68b2",
    "deepnote_cell_type": "text-cell-p",
    "formattedRanges": []
   },
   "source": [
    "Training model:"
   ]
  },
  {
   "cell_type": "code",
   "execution_count": 0,
   "metadata": {
    "cell_id": "bad1580ca4a84869a5fe227def296acb",
    "deepnote_cell_type": "code",
    "deepnote_to_be_reexecuted": true,
    "execution_millis": 1101350818,
    "execution_start": 1682277267317,
    "source_hash": "920c5dc3"
   },
   "outputs": [],
   "source": [
    "\"\"\"\n",
    "Full training data:\n",
    "lr=.1, LSTM_HIDDEN=1, 16 epochs, train F1:    0.634\n",
    "lr=.1, LSTM_HIDDEN=5, 16 epochs, train F1:    0.641\n",
    "lr=0.07, LSTM_HIDDEN=10, 16 epochs, train F1: 0.70\n",
    "lr=.05, LSTM_HIDDEN=10, 16 epochs, train F1:  0.718 (0.73 at 38 epochs)\n",
    "\n",
    "\"\"\""
   ]
  },
  {
   "cell_type": "code",
   "execution_count": 0,
   "metadata": {
    "cell_id": "dbfcbf357b40445e83a876a93c72ef28",
    "deepnote_cell_type": "code",
    "deepnote_to_be_reexecuted": true,
    "execution_millis": 1101350816,
    "execution_start": 1682277267326,
    "source_hash": "c4ca1162"
   },
   "outputs": [],
   "source": [
    "train_f1 = [0.0, 0.0, 0.288, 0.593, 0.609, 0.613, 0.617, 0.618, 0.619, 0.626, 0.626, 0.632, 0.637, 0.638, 0.632, 0.641, 0.64, 0.637, 0.636, 0.64]\n",
    "\n",
    "plt.plot(train_f1)"
   ]
  },
  {
   "cell_type": "code",
   "execution_count": 0,
   "metadata": {
    "cell_id": "b038a398386f41269b4d48c0127cf490",
    "deepnote_cell_type": "code",
    "deepnote_to_be_reexecuted": true,
    "execution_millis": 1101350541,
    "execution_start": 1682277267602,
    "source_hash": "b623e53d"
   },
   "outputs": [],
   "source": []
  },
  {
   "cell_type": "code",
   "execution_count": 5,
   "metadata": {
    "cell_id": "ffa4c500ef6d412b84f54ff9b19e5edb",
    "deepnote_cell_type": "code",
    "deepnote_to_be_reexecuted": false,
    "execution_millis": 904546,
    "execution_start": 1685038799121,
    "source_hash": "d19311d5"
   },
   "outputs": [
    {
     "name": "stdout",
     "output_type": "stream",
     "text": [
      "Epoch 0, train: 0.000, dev: 0.000\n",
      "Epoch 1, train: 0.000, dev: 0.000\n",
      "Epoch 2, train: 0.425, dev: 0.613\n",
      "Epoch 3, train: 0.702, dev: 0.642\n",
      "Epoch 4, train: 0.725, dev: 0.651\n",
      "Epoch 5, train: 0.737, dev: 0.655\n",
      "Epoch 6, train: 0.746, dev: 0.668\n",
      "Epoch 7, train: 0.757, dev: 0.666\n",
      "Epoch 8, train: 0.766, dev: 0.672\n",
      "Epoch 9, train: 0.775, dev: 0.672\n",
      "Epoch 10, train: 0.782, dev: 0.674\n",
      "Epoch 11, train: 0.792, dev: 0.672\n",
      "Epoch 12, train: 0.802, dev: 0.676\n",
      "Epoch 13, train: 0.810, dev: 0.671\n",
      "Epoch 14, train: 0.815, dev: 0.676\n",
      "Epoch 15, train: 0.819, dev: 0.660\n",
      "Epoch 16, train: 0.824, dev: 0.659\n",
      "Epoch 17, train: 0.828, dev: 0.663\n",
      "Epoch 18, train: 0.830, dev: 0.675\n",
      "Epoch 19, train: 0.835, dev: 0.664\n"
     ]
    }
   ],
   "source": [
    "model = Train1BiLSTM(hidden_size=10)\n",
    "model.fit(train=(x_train, y_train), \n",
    "          dev=(x_dev, y_dev), \n",
    "          print_metrics=False, \n",
    "          learning_rate=0.003, \n",
    "          epochs=20)\n",
    "torch.save(model, \"nlp_project/models/Experiment4.pt\")"
   ]
  },
  {
   "cell_type": "code",
   "execution_count": 6,
   "metadata": {
    "cell_id": "295b4d3cc95741cb9d79146851230cf4",
    "deepnote_cell_type": "code",
    "deepnote_to_be_reexecuted": false,
    "execution_millis": 33,
    "execution_start": 1685045473780,
    "source_hash": "d29820f9"
   },
   "outputs": [
    {
     "data": {
      "text/plain": [
       "[0.00021537798836958861,\n",
       " 0,\n",
       " 0.42499627588261585,\n",
       " 0.7022732288677995,\n",
       " 0.7252505230701465,\n",
       " 0.7365058382903722,\n",
       " 0.7462933362729427,\n",
       " 0.7572107415184,\n",
       " 0.766249584763592,\n",
       " 0.7747697769887939,\n",
       " 0.7822701740726322,\n",
       " 0.7917921266867403,\n",
       " 0.8021223122032951,\n",
       " 0.8098248755105467,\n",
       " 0.8153958204941454,\n",
       " 0.8193230217440036,\n",
       " 0.8235887661864454,\n",
       " 0.8276752146344201,\n",
       " 0.8297717202310841,\n",
       " 0.8348958625722788]"
      ]
     },
     "execution_count": 6,
     "metadata": {},
     "output_type": "execute_result"
    }
   ],
   "source": [
    "model.train_f1_log"
   ]
  },
  {
   "cell_type": "markdown",
   "metadata": {
    "created_in_deepnote_cell": true,
    "deepnote_cell_type": "markdown"
   },
   "source": [
    "<a style='text-decoration:none;line-height:16px;display:flex;color:#5B5B62;padding:10px;justify-content:end;' href='https://deepnote.com?utm_source=created-in-deepnote-cell&projectId=b2f14aee-af04-4db5-af55-57a3a58b9f40' target=\"_blank\">\n",
    "<img alt='Created in deepnote.com' style='display:inline;max-height:16px;margin:0px;margin-right:7.5px;' src='data:image/svg+xml;base64,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' > </img>\n",
    "Created in <span style='font-weight:600;margin-left:4px;'>Deepnote</span></a>"
   ]
  }
 ],
 "metadata": {
  "deepnote": {},
  "deepnote_execution_queue": [],
  "deepnote_notebook_id": "e6f1f21c8d454f699f939151ea3d0ac5",
  "kernelspec": {
   "display_name": "Python 3 (ipykernel)",
   "language": "python",
   "name": "python3"
  },
  "language_info": {
   "codemirror_mode": {
    "name": "ipython",
    "version": 3
   },
   "file_extension": ".py",
   "mimetype": "text/x-python",
   "name": "python",
   "nbconvert_exporter": "python",
   "pygments_lexer": "ipython3",
   "version": "3.7.7"
  }
 },
 "nbformat": 4,
 "nbformat_minor": 1
}
