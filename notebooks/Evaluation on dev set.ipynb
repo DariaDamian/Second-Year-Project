{
 "cells": [
  {
   "cell_type": "code",
   "execution_count": 1,
   "metadata": {
    "cell_id": "bb29b4f861b444b6baac8dca5a201e07",
    "deepnote_cell_type": "code",
    "deepnote_to_be_reexecuted": false,
    "execution_millis": 16235,
    "execution_start": 1680695853285,
    "source_hash": "95716"
   },
   "outputs": [
    {
     "ename": "KernelInterrupted",
     "evalue": "Execution interrupted by the Jupyter kernel.",
     "output_type": "error",
     "traceback": [
      "\u001b[0;31m---------------------------------------------------------------------------\u001b[0m",
      "\u001b[0;31mKernelInterrupted\u001b[0m: Execution interrupted by the Jupyter kernel."
     ]
    }
   ],
   "source": [
    "import codecs\n",
    "import time\n",
    "from dataclasses import dataclass\n",
    "from typing import List, Dict, Any\n",
    "\n",
    "import numpy as np\n",
    "import pandas as pd\n",
    "import torch\n",
    "import torch.nn.functional as F\n",
    "from torch import Tensor\n",
    "from torch import nn\n",
    "import pickle\n",
    "\n",
    "import sys\n",
    "sys.path.append(\"nlp_project\")\n",
    "from nlp_project.scripts.read_write_data import read_processed_data, write_baseline_pred\n",
    "from nlp_project.models.classes import SecondLSTM, DataIterator, Batch\n",
    "\n",
    "import gensim.models\n",
    "GoogleEmbs = gensim.models.KeyedVectors.load_word2vec_format(\n",
    "                                'nlp_project/models/GoogleNews-50k.bin', binary=True)\n",
    "\n",
    "from sklearn.metrics import f1_score, accuracy_score"
   ]
  },
  {
   "cell_type": "code",
   "execution_count": 5,
   "metadata": {
    "cell_id": "80efcdce989d421c80d73ae8bebce3de",
    "deepnote_cell_type": "code",
    "deepnote_to_be_reexecuted": false,
    "execution_millis": 1,
    "execution_start": 1680695670287,
    "source_hash": "62b8f303"
   },
   "outputs": [],
   "source": [
    "def pad_inputs(collection: List[List[int]], pad_token, max_len: int = None):\n",
    "    if not max_len:\n",
    "        max_len = max([len(x) for x in collection])\n",
    "\n",
    "    to_series = [pd.Series(el) for el in collection]\n",
    "    enc_matrix = (pd.concat(to_series, axis=1)\n",
    "                    .reindex(range(max_len))\n",
    "                    .fillna(pad_token)\n",
    "                    .T)\n",
    "\n",
    "    return enc_matrix.values.tolist()"
   ]
  },
  {
   "cell_type": "markdown",
   "metadata": {
    "cell_id": "2353dc9b3abb4fffaf59235b0c63a960",
    "deepnote_cell_type": "text-cell-h1",
    "formattedRanges": [],
    "is_collapsed": false
   },
   "source": [
    "# Evaluation on dev set"
   ]
  },
  {
   "cell_type": "code",
   "execution_count": 2,
   "metadata": {
    "cell_id": "d69f317b62424163b5356dbb3d4ccc16",
    "deepnote_cell_type": "code",
    "deepnote_to_be_reexecuted": false,
    "execution_millis": 158,
    "execution_start": 1680695654491,
    "source_hash": "5c300169"
   },
   "outputs": [
    {
     "data": {
      "text/plain": [
       "SecondLSTM(\n",
       "  (lstm): LSTM(300, 10, batch_first=True, bidirectional=True)\n",
       "  (linear): Linear(in_features=20, out_features=3, bias=True)\n",
       ")"
      ]
     },
     "execution_count": 2,
     "metadata": {},
     "output_type": "execute_result"
    }
   ],
   "source": [
    "# loading model\n",
    "with open('nlp_project/models/model_04-03.pkl', 'rb') as f:\n",
    "    model = pickle.load(f)\n",
    "model.eval()  # setting to eval mode"
   ]
  },
  {
   "cell_type": "code",
   "execution_count": 3,
   "metadata": {
    "cell_id": "c05fe99857064a1d92c07bbbc372fa30",
    "deepnote_cell_type": "code",
    "deepnote_to_be_reexecuted": false,
    "execution_millis": 104,
    "execution_start": 1680695661440,
    "source_hash": "4be158ad"
   },
   "outputs": [],
   "source": [
    "TRAIN_PATH = \"nlp_project/data/processed/train.conll\"\n",
    "DEV_PATH = \"nlp_project/data/processed/dev.conll\"\n",
    "TEST_PATH = \"nlp_project/data/processed/test.conll\"\n",
    "\n",
    "dev_documents = []\n",
    "dev_labels = []\n",
    "for words, labels, _ ,_ in read_processed_data(DEV_PATH):\n",
    "    dev_documents.append(words)\n",
    "    dev_labels.append(labels)"
   ]
  },
  {
   "cell_type": "markdown",
   "metadata": {
    "cell_id": "0417d5c23eb54500907bc4a5d3faf226",
    "deepnote_cell_type": "text-cell-p",
    "formattedRanges": [],
    "is_collapsed": false
   },
   "source": [
    "padding dev sets:"
   ]
  },
  {
   "cell_type": "code",
   "execution_count": 6,
   "metadata": {
    "cell_id": "7e936ce555f048e3a82788fab9ad7bf2",
    "deepnote_cell_type": "code",
    "deepnote_to_be_reexecuted": false,
    "execution_millis": 1585,
    "execution_start": 1680695673049,
    "source_hash": "3d6a623d"
   },
   "outputs": [],
   "source": [
    "max_len = 99\n",
    "dev_docs_padded = pad_inputs(dev_documents, '<PAD>', max_len=max_len)\n",
    "dev_labels_padded = pad_inputs(dev_labels, -100, max_len=max_len)"
   ]
  },
  {
   "cell_type": "code",
   "execution_count": 11,
   "metadata": {
    "cell_id": "74f35dafe559401fa20e2f1e7664f947",
    "deepnote_cell_type": "code",
    "deepnote_to_be_reexecuted": false,
    "execution_millis": 1,
    "execution_start": 1680695819871,
    "source_hash": "8697de35"
   },
   "outputs": [
    {
     "name": "stdout",
     "output_type": "stream",
     "text": [
      "['Iguazu', 'is', 'a', 'big', 'or', 'a', 'small', 'country', '?', '<PAD>', '<PAD>', '<PAD>', '<PAD>', '<PAD>', '<PAD>', '<PAD>', '<PAD>', '<PAD>', '<PAD>', '<PAD>', '<PAD>', '<PAD>', '<PAD>', '<PAD>', '<PAD>', '<PAD>', '<PAD>', '<PAD>', '<PAD>', '<PAD>', '<PAD>', '<PAD>', '<PAD>', '<PAD>', '<PAD>', '<PAD>', '<PAD>', '<PAD>', '<PAD>', '<PAD>', '<PAD>', '<PAD>', '<PAD>', '<PAD>', '<PAD>', '<PAD>', '<PAD>', '<PAD>', '<PAD>', '<PAD>', '<PAD>', '<PAD>', '<PAD>', '<PAD>', '<PAD>', '<PAD>', '<PAD>', '<PAD>', '<PAD>', '<PAD>', '<PAD>', '<PAD>', '<PAD>', '<PAD>', '<PAD>', '<PAD>', '<PAD>', '<PAD>', '<PAD>', '<PAD>', '<PAD>', '<PAD>', '<PAD>', '<PAD>', '<PAD>', '<PAD>', '<PAD>', '<PAD>', '<PAD>', '<PAD>', '<PAD>', '<PAD>', '<PAD>', '<PAD>', '<PAD>', '<PAD>', '<PAD>', '<PAD>', '<PAD>', '<PAD>', '<PAD>', '<PAD>', '<PAD>', '<PAD>', '<PAD>', '<PAD>', '<PAD>', '<PAD>', '<PAD>']\n",
      "torch.Size([300])\n",
      "torch.Size([600])\n",
      "torch.Size([900])\n",
      "torch.Size([1200])\n",
      "torch.Size([1500])\n",
      "torch.Size([1800])\n",
      "torch.Size([2100])\n",
      "torch.Size([2400])\n",
      "torch.Size([2700])\n",
      "torch.Size([3000])\n",
      "torch.Size([3300])\n",
      "torch.Size([3600])\n",
      "torch.Size([3900])\n",
      "torch.Size([4200])\n",
      "torch.Size([4500])\n",
      "torch.Size([4800])\n",
      "torch.Size([5100])\n",
      "torch.Size([5400])\n",
      "torch.Size([5700])\n",
      "torch.Size([6000])\n",
      "torch.Size([6300])\n",
      "torch.Size([6600])\n",
      "torch.Size([6900])\n",
      "torch.Size([7200])\n",
      "torch.Size([7500])\n",
      "torch.Size([7800])\n",
      "torch.Size([8100])\n",
      "torch.Size([8400])\n",
      "torch.Size([8700])\n",
      "torch.Size([9000])\n",
      "torch.Size([9300])\n",
      "torch.Size([9600])\n",
      "torch.Size([9900])\n",
      "torch.Size([10200])\n",
      "torch.Size([10500])\n",
      "torch.Size([10800])\n",
      "torch.Size([11100])\n",
      "torch.Size([11400])\n",
      "torch.Size([11700])\n",
      "torch.Size([12000])\n",
      "torch.Size([12300])\n",
      "torch.Size([12600])\n",
      "torch.Size([12900])\n",
      "torch.Size([13200])\n",
      "torch.Size([13500])\n",
      "torch.Size([13800])\n",
      "torch.Size([14100])\n",
      "torch.Size([14400])\n",
      "torch.Size([14700])\n",
      "torch.Size([15000])\n",
      "torch.Size([15300])\n",
      "torch.Size([15600])\n",
      "torch.Size([15900])\n",
      "torch.Size([16200])\n",
      "torch.Size([16500])\n",
      "torch.Size([16800])\n",
      "torch.Size([17100])\n",
      "torch.Size([17400])\n",
      "torch.Size([17700])\n",
      "torch.Size([18000])\n",
      "torch.Size([18300])\n",
      "torch.Size([18600])\n",
      "torch.Size([18900])\n",
      "torch.Size([19200])\n",
      "torch.Size([19500])\n",
      "torch.Size([19800])\n",
      "torch.Size([20100])\n",
      "torch.Size([20400])\n",
      "torch.Size([20700])\n",
      "torch.Size([21000])\n",
      "torch.Size([21300])\n",
      "torch.Size([21600])\n",
      "torch.Size([21900])\n",
      "torch.Size([22200])\n",
      "torch.Size([22500])\n",
      "torch.Size([22800])\n",
      "torch.Size([23100])\n",
      "torch.Size([23400])\n",
      "torch.Size([23700])\n",
      "torch.Size([24000])\n",
      "torch.Size([24300])\n",
      "torch.Size([24600])\n",
      "torch.Size([24900])\n",
      "torch.Size([25200])\n",
      "torch.Size([25500])\n",
      "torch.Size([25800])\n",
      "torch.Size([26100])\n",
      "torch.Size([26400])\n",
      "torch.Size([26700])\n",
      "torch.Size([27000])\n",
      "torch.Size([27300])\n",
      "torch.Size([27600])\n",
      "torch.Size([27900])\n",
      "torch.Size([28200])\n",
      "torch.Size([28500])\n",
      "torch.Size([28800])\n",
      "torch.Size([29100])\n",
      "torch.Size([29400])\n",
      "torch.Size([29700])\n"
     ]
    }
   ],
   "source": [
    "doc = dev_docs_padded[0]\n",
    "print(doc)\n",
    "pred = model.forward([doc])"
   ]
  },
  {
   "cell_type": "code",
   "execution_count": 0,
   "metadata": {
    "cell_id": "4866ef5888e24a86b7ba10ebe9c14394",
    "deepnote_cell_type": "code",
    "deepnote_to_be_reexecuted": true,
    "execution_millis": 1728894,
    "execution_start": 1680692381018,
    "source_hash": "b00e8270"
   },
   "outputs": [],
   "source": [
    "results[0]"
   ]
  },
  {
   "cell_type": "code",
   "execution_count": 0,
   "metadata": {
    "cell_id": "9d472a2526f246aab7638a001cd16ef8",
    "deepnote_cell_type": "code",
    "deepnote_to_be_reexecuted": true,
    "execution_millis": 603010528,
    "execution_start": 1680091099426,
    "source_hash": "39b81a6e"
   },
   "outputs": [],
   "source": [
    "pred_labels = []\n",
    "for padded_pred_labels, true_labels in zip(results, dev_labels):\n",
    "    preds = padded_pred_labels[:len(true_labels)].tolist()\n",
    "    preds = list(map(str, preds))\n",
    "    pred_labels.append(preds)"
   ]
  },
  {
   "cell_type": "code",
   "execution_count": 0,
   "metadata": {
    "cell_id": "b9a3402ee6ab4d3cb86568f17441309f",
    "deepnote_cell_type": "code",
    "deepnote_to_be_reexecuted": true,
    "execution_millis": 602935378,
    "execution_start": 1680091174575,
    "source_hash": "855319ea"
   },
   "outputs": [],
   "source": [
    "print(pred_labels[0])\n",
    "print(dev_labels[0])"
   ]
  },
  {
   "cell_type": "code",
   "execution_count": 0,
   "metadata": {
    "cell_id": "82e732b7fb89467ea39d828b346f6876",
    "deepnote_cell_type": "code",
    "deepnote_to_be_reexecuted": true,
    "execution_millis": 601532736,
    "execution_start": 1680092577218,
    "source_hash": "d7e0b008"
   },
   "outputs": [],
   "source": [
    "with open('nlp_project/data/predictions/bi-lstm_binary_preds.conll', encoding='utf-8', mode='a') as file:\n",
    "    for doc, pred_lab in zip(dev_documents, pred_labels):\n",
    "        for word, lab in zip(doc, pred_lab):\n",
    "            file.write(word+'\\t'+lab+'\\n')\n",
    "        file.write('\\n')"
   ]
  },
  {
   "cell_type": "markdown",
   "metadata": {
    "cell_id": "2ad4eb31c6734907a6504c8fd25ddcf3",
    "deepnote_cell_type": "text-cell-p",
    "formattedRanges": [],
    "is_collapsed": false
   },
   "source": [
    "Now writing the gold labels:"
   ]
  },
  {
   "cell_type": "code",
   "execution_count": 0,
   "metadata": {
    "cell_id": "43b88a7691e744438b1cf90f904dd240",
    "deepnote_cell_type": "code",
    "deepnote_to_be_reexecuted": true,
    "execution_millis": 601617346,
    "execution_start": 1680092492608,
    "source_hash": "d7d99a2c"
   },
   "outputs": [],
   "source": [
    "df = pd.DataFrame(read_processed_data('nlp_project/data/processed/dev.conll')).drop([2,3], axis=1)\n",
    "words = df[0].tolist()\n",
    "labels = df[1].tolist()"
   ]
  },
  {
   "cell_type": "code",
   "execution_count": 0,
   "metadata": {
    "cell_id": "47ba5400075b4d11855f9c32fbd4691c",
    "deepnote_cell_type": "code",
    "deepnote_to_be_reexecuted": true,
    "execution_millis": 601530032,
    "execution_start": 1680092579932,
    "source_hash": "f63c560a"
   },
   "outputs": [],
   "source": [
    "with open('nlp_project/data/predictions/bi-lstm_binary_gold.conll', encoding='utf-8', mode='a') as file:\n",
    "    for doc, labs in zip(words, labels):\n",
    "        for word, lab in zip(doc, labs):\n",
    "            file.write(word+'\\t'+lab+'\\n')\n",
    "        file.write('\\n')"
   ]
  },
  {
   "cell_type": "code",
   "execution_count": 0,
   "metadata": {
    "cell_id": "fa6f480b6eca46aa8bf127abc59340bb",
    "deepnote_cell_type": "code",
    "deepnote_to_be_reexecuted": true,
    "source_hash": "b623e53d"
   },
   "outputs": [],
   "source": []
  },
  {
   "cell_type": "code",
   "execution_count": 0,
   "metadata": {
    "cell_id": "20820b65c77f4d03bcf4b3b2dc65b91c",
    "deepnote_cell_type": "code",
    "deepnote_to_be_reexecuted": true,
    "execution_millis": 613888436,
    "execution_start": 1680080221529,
    "source_hash": "b6f6288c"
   },
   "outputs": [],
   "source": [
    "sentence = ['Hello', 'Sam']\n",
    "pad_length = max(0, 99 - len(sentence))\n",
    "padded_sentence = sentence + ['<PAD>']*pad_length\n",
    "model_output = model([padded_sentence])\n",
    "model_output"
   ]
  },
  {
   "cell_type": "code",
   "execution_count": 0,
   "metadata": {
    "cell_id": "ac1ace7b5b8c4e2f879c214968ea9771",
    "deepnote_cell_type": "code",
    "deepnote_to_be_reexecuted": true,
    "source_hash": "94b10e45"
   },
   "outputs": [],
   "source": [
    "padding = max(0, 99 - len(sentence))\n",
    "padded_sentence = sentence.extend(['<PAD>']*padding)\n",
    "model_output = model(padded_sentence)\n",
    "model_prediction = \n",
    "predicted_labels = np.append(predicted_labels, predictions)"
   ]
  },
  {
   "cell_type": "code",
   "execution_count": 0,
   "metadata": {
    "cell_id": "2b715c2c95814ca09bf546093b86c6ce",
    "deepnote_cell_type": "code",
    "deepnote_to_be_reexecuted": true,
    "execution_millis": 662831152,
    "execution_start": 1680031278823,
    "source_hash": "31f8011"
   },
   "outputs": [],
   "source": [
    "for i, sentence in enumerate(dev_documents):\n",
    "    pad_length = max(0, 99 - len(sentence))\n",
    "    padded_sentence = sentence + ['<PAD>']*pad_length\n",
    "    model_output = model(padded_sentence)\n",
    "    model_prediction = \n",
    "    predicted_labels = np.append(predicted_labels, predictions)\n",
    "\n",
    "print(predicted_labels)\n",
    "    "
   ]
  },
  {
   "cell_type": "markdown",
   "metadata": {
    "created_in_deepnote_cell": true,
    "deepnote_cell_type": "markdown"
   },
   "source": [
    "<a style='text-decoration:none;line-height:16px;display:flex;color:#5B5B62;padding:10px;justify-content:end;' href='https://deepnote.com?utm_source=created-in-deepnote-cell&projectId=b2f14aee-af04-4db5-af55-57a3a58b9f40' target=\"_blank\">\n",
    "<img alt='Created in deepnote.com' style='display:inline;max-height:16px;margin:0px;margin-right:7.5px;' src='data:image/svg+xml;base64,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' > </img>\n",
    "Created in <span style='font-weight:600;margin-left:4px;'>Deepnote</span></a>"
   ]
  }
 ],
 "metadata": {
  "deepnote": {},
  "deepnote_execution_queue": [],
  "deepnote_notebook_id": "513018d0b765448a85caccfe022ff43a",
  "kernelspec": {
   "display_name": "Python 3 (ipykernel)",
   "language": "python",
   "name": "python3"
  },
  "language_info": {
   "codemirror_mode": {
    "name": "ipython",
    "version": 3
   },
   "file_extension": ".py",
   "mimetype": "text/x-python",
   "name": "python",
   "nbconvert_exporter": "python",
   "pygments_lexer": "ipython3",
   "version": "3.7.7"
  }
 },
 "nbformat": 4,
 "nbformat_minor": 1
}
