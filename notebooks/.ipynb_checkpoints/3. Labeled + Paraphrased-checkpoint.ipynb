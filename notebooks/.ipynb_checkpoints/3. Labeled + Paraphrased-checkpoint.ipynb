{
 "cells": [
  {
   "cell_type": "code",
   "execution_count": 5,
   "metadata": {
    "cell_id": "f0482968f6494cdc8e252a7f681c357a",
    "deepnote_cell_type": "code",
    "deepnote_to_be_reexecuted": false,
    "execution_millis": 3316,
    "execution_start": 1685035966921,
    "source_hash": "622ba718"
   },
   "outputs": [],
   "source": [
    "import codecs\n",
    "from dataclasses import dataclass\n",
    "from typing import List, Dict, Any\n",
    "\n",
    "import matplotlib.pyplot as plt\n",
    "import numpy as np\n",
    "import pandas as pd\n",
    "import torch\n",
    "import torch.nn.functional as F\n",
    "from torch import Tensor\n",
    "from torch import nn\n",
    "import time\n",
    "import pickle\n",
    "import datetime\n",
    "\n",
    "import sys\n",
    "sys.path.append(\"nlp_project\")\n",
    "from nlp_project.scripts.read_write_data import read_processed_data, read_raw_data, load_data\n",
    "from nlp_project.models.classes import DataIterator, Batch, PolyDataIterator, F1_evaluator, F1_error_evaluator, Train2BiLSTM\n",
    "\n",
    "import gensim.models\n",
    "GoogleEmbs = gensim.models.KeyedVectors.load_word2vec_format(\n",
    "                                'nlp_project/models/GoogleNews-50k.bin', binary=True)"
   ]
  },
  {
   "cell_type": "code",
   "execution_count": 3,
   "metadata": {
    "cell_id": "17380d8bf3d64ab3ac68cc8985f4d3e5",
    "deepnote_cell_type": "code",
    "deepnote_to_be_reexecuted": false,
    "execution_millis": 2,
    "execution_start": 1685035236423,
    "source_hash": "79eb7dc"
   },
   "outputs": [],
   "source": [
    "PP_TRAIN_SET_PATH = \"nlp_project/data/paraphrased/train_labeled.conll\"\n",
    "TRAIN_SET_PATH = \"nlp_project/data/processed/train_splits/labeled.conll\"\n",
    "DEV_SET_PATH = \"nlp_project/data/processed/dev.conll\""
   ]
  },
  {
   "cell_type": "code",
   "execution_count": 4,
   "metadata": {
    "cell_id": "136d12e0e2804f368038283bcf5d9519",
    "deepnote_cell_type": "code",
    "deepnote_to_be_reexecuted": false,
    "execution_millis": 413,
    "execution_start": 1685035239290,
    "source_hash": "550f143f"
   },
   "outputs": [],
   "source": [
    "documents, doc_labels, _, _ = load_data(TRAIN_SET_PATH)\n",
    "dev_docs, dev_labels, _, _ = load_data(DEV_SET_PATH)\n",
    "\n",
    "\n",
    "pp_documents = []\n",
    "pp_doc_labels = []\n",
    "for words, labels in read_raw_data(PP_TRAIN_SET_PATH):\n",
    "    pp_documents.append(words)\n",
    "    pp_doc_labels.append(labels)"
   ]
  },
  {
   "cell_type": "code",
   "execution_count": 8,
   "metadata": {
    "cell_id": "893027b6b6784318ba8ab9beedd98842",
    "deepnote_cell_type": "code",
    "deepnote_to_be_reexecuted": false,
    "execution_millis": 1264129,
    "execution_start": 1685042392390,
    "source_hash": "921bae32"
   },
   "outputs": [
    {
     "name": "stdout",
     "output_type": "stream",
     "text": [
      "Epoch 0, train: 0.004, dev: 0.000\n",
      "Epoch 1, train: 0.276, dev: 0.597\n",
      "Epoch 2, train: 0.636, dev: 0.639\n",
      "Epoch 3, train: 0.665, dev: 0.638\n",
      "Epoch 4, train: 0.675, dev: 0.644\n",
      "Epoch 5, train: 0.683, dev: 0.644\n",
      "Epoch 6, train: 0.689, dev: 0.646\n",
      "Epoch 7, train: 0.694, dev: 0.643\n",
      "Epoch 8, train: 0.698, dev: 0.646\n",
      "Epoch 9, train: 0.709, dev: 0.656\n",
      "Epoch 10, train: 0.722, dev: 0.654\n",
      "Epoch 11, train: 0.734, dev: 0.639\n",
      "Epoch 12, train: 0.742, dev: 0.653\n",
      "Epoch 13, train: 0.747, dev: 0.654\n",
      "Epoch 14, train: 0.753, dev: 0.653\n",
      "Epoch 15, train: 0.758, dev: 0.647\n",
      "Epoch 16, train: 0.761, dev: 0.643\n",
      "Epoch 17, train: 0.767, dev: 0.645\n",
      "Epoch 18, train: 0.771, dev: 0.647\n",
      "Epoch 19, train: 0.773, dev: 0.638\n"
     ]
    }
   ],
   "source": [
    "model = Train2BiLSTM(hidden_size=10)\n",
    "model.fit(train=(documents, doc_labels),\n",
    "          train2=(pp_documents, pp_doc_labels),\n",
    "          print_metrics=False, \n",
    "          learning_rate=0.003,\n",
    "          dev = (dev_docs, dev_labels),\n",
    "          epochs=20,\n",
    "          alpha=0.5)"
   ]
  },
  {
   "cell_type": "code",
   "execution_count": 10,
   "metadata": {
    "cell_id": "e0dd4003adfa4fc89c04c0432b5d52ca",
    "deepnote_cell_type": "code",
    "deepnote_to_be_reexecuted": false,
    "execution_millis": 3,
    "execution_start": 1685044227797,
    "source_hash": "8c03f2ff"
   },
   "outputs": [
    {
     "data": {
      "text/plain": [
       "[0,\n",
       " 0.5970266040688577,\n",
       " 0.6388888888888888,\n",
       " 0.6379376683339746,\n",
       " 0.6443932411674348,\n",
       " 0.6443418013856813,\n",
       " 0.6458574181117533,\n",
       " 0.642691415313225,\n",
       " 0.6460348162475822,\n",
       " 0.6555209953343701,\n",
       " 0.6540247678018576,\n",
       " 0.6392233009708738,\n",
       " 0.6530612244897959,\n",
       " 0.6542346542346542,\n",
       " 0.6528375733855186,\n",
       " 0.6465989053948396,\n",
       " 0.6431372549019609,\n",
       " 0.6454652532391048,\n",
       " 0.6466224131198751,\n",
       " 0.6380320187426786]"
      ]
     },
     "execution_count": 10,
     "metadata": {},
     "output_type": "execute_result"
    }
   ],
   "source": [
    "model.dev_f1_log"
   ]
  },
  {
   "cell_type": "code",
   "execution_count": 9,
   "metadata": {
    "cell_id": "e7ded0122ee449a6ab55b7ed29347c05",
    "deepnote_cell_type": "code",
    "deepnote_to_be_reexecuted": false,
    "execution_millis": 8,
    "execution_start": 1685043703206,
    "source_hash": "cdd43d4"
   },
   "outputs": [],
   "source": [
    "torch.save(model, \"nlp-project/models/Experiment3.pt\")"
   ]
  },
  {
   "cell_type": "code",
   "execution_count": 1,
   "metadata": {
    "cell_id": "26acca95f1cc4aa7840f5565ddb31661",
    "deepnote_cell_type": "code",
    "deepnote_to_be_reexecuted": false,
    "execution_millis": 1,
    "execution_start": 1685035219062,
    "source_hash": "69dcfd8c"
   },
   "outputs": [
    {
     "ename": "SyntaxError",
     "evalue": "invalid syntax (4158782827.py, line 8)",
     "output_type": "error",
     "traceback": [
      "\u001b[0;36m  Cell \u001b[0;32mIn [1], line 8\u001b[0;36m\u001b[0m\n\u001b[0;31m    alpha = 0.5)\u001b[0m\n\u001b[0m    ^\u001b[0m\n\u001b[0;31mSyntaxError\u001b[0m\u001b[0;31m:\u001b[0m invalid syntax\n"
     ]
    }
   ],
   "source": [
    "model2 = Train2BiLSTM(hidden_size=10)\n",
    "model2.fit(train=(documents, doc_labels),\n",
    "          train2=(pp_documents, pp_doc_labels),\n",
    "          print_metrics=False, \n",
    "          learning_rate=0.003,\n",
    "          dev = (dev_docs, dev_labels),\n",
    "          epochs=14\n",
    "          alpha = 0.5)"
   ]
  },
  {
   "cell_type": "code",
   "execution_count": null,
   "metadata": {
    "cell_id": "cdad053167664acaab4b325003fab974",
    "deepnote_cell_type": "code",
    "deepnote_to_be_reexecuted": true,
    "execution_millis": 10,
    "execution_start": 1684264010500,
    "source_hash": "39fb7076"
   },
   "outputs": [],
   "source": [
    "# import pickle\n",
    "# file_name = \"/work/nlp-project/models/paraphrase_model.pkl\"\n",
    "# pickle.dump(model, open(file_name, \"wb\"))"
   ]
  },
  {
   "cell_type": "code",
   "execution_count": null,
   "metadata": {
    "cell_id": "3b8964dd2afe439fa7403e1e77be250d",
    "deepnote_cell_type": "code"
   },
   "outputs": [],
   "source": []
  },
  {
   "cell_type": "markdown",
   "metadata": {
    "created_in_deepnote_cell": true,
    "deepnote_cell_type": "markdown"
   },
   "source": [
    "<a style='text-decoration:none;line-height:16px;display:flex;color:#5B5B62;padding:10px;justify-content:end;' href='https://deepnote.com?utm_source=created-in-deepnote-cell&projectId=b2f14aee-af04-4db5-af55-57a3a58b9f40' target=\"_blank\">\n",
    "<img alt='Created in deepnote.com' style='display:inline;max-height:16px;margin:0px;margin-right:7.5px;' src='data:image/svg+xml;base64,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' > </img>\n",
    "Created in <span style='font-weight:600;margin-left:4px;'>Deepnote</span></a>"
   ]
  }
 ],
 "metadata": {
  "deepnote": {},
  "deepnote_execution_queue": [],
  "deepnote_notebook_id": "3d3f3edcd90243f0b4ce09ddfcefbef2",
  "kernelspec": {
   "display_name": "Python 3 (ipykernel)",
   "language": "python",
   "name": "python3"
  },
  "language_info": {
   "codemirror_mode": {
    "name": "ipython",
    "version": 3
   },
   "file_extension": ".py",
   "mimetype": "text/x-python",
   "name": "python",
   "nbconvert_exporter": "python",
   "pygments_lexer": "ipython3",
   "version": "3.7.7"
  }
 },
 "nbformat": 4,
 "nbformat_minor": 1
}
