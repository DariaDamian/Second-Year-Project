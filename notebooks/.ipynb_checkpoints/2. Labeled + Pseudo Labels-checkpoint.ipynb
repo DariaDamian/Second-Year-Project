{
 "cells": [
  {
   "cell_type": "code",
   "execution_count": null,
   "metadata": {
    "cell_id": "a01f9fe7392a41a58206b3724422ec70",
    "deepnote_cell_type": "code",
    "deepnote_to_be_reexecuted": false,
    "execution_millis": 3899,
    "execution_start": 1685035292335,
    "source_hash": "3358f1ce"
   },
   "outputs": [],
   "source": [
    "import codecs\n",
    "from dataclasses import dataclass\n",
    "from typing import List, Dict, Any\n",
    "\n",
    "import matplotlib.pyplot as plt\n",
    "import numpy as np\n",
    "import pandas as pd\n",
    "import torch\n",
    "import torch.nn.functional as F\n",
    "from torch import Tensor\n",
    "from torch import nn\n",
    "import time\n",
    "import pickle\n",
    "import datetime\n",
    "import random\n",
    "\n",
    "# Ensuring reproducibility\n",
    "seed = 0\n",
    "torch.manual_seed(seed)\n",
    "torch.cuda.manual_seed_all(seed)\n",
    "torch.backends.cudnn.deterministic = True\n",
    "torch.backends.cudnn.benchmark = False\n",
    "np.random.seed(seed)\n",
    "random.seed(seed)\n",
    "\n",
    "import sys\n",
    "sys.path.append('nlp_project')\n",
    "from nlp_project.scripts.read_write_data import read_processed_data, read_raw_data, load_data\n",
    "from nlp_project.models.classes import DataIterator, Batch, PolyDataIterator, F1_evaluator, F1_error_evaluator, Train2BiLSTM\n",
    "\n",
    "import gensim.models\n",
    "GoogleEmbs = gensim.models.KeyedVectors.load_word2vec_format(\n",
    "                                './nlp_project/models/GoogleNews-50k.bin', binary=True)"
   ]
  },
  {
   "cell_type": "code",
   "execution_count": null,
   "metadata": {
    "cell_id": "b539df0475014326861428b308e9afc7",
    "deepnote_cell_type": "code",
    "deepnote_to_be_reexecuted": false,
    "execution_millis": 2,
    "execution_start": 1685032163007,
    "source_hash": "51dbfd80"
   },
   "outputs": [],
   "source": [
    "PP_TRAIN_SET_PATH = \"nlp_project/data/pseudo/pseudo.conll\"\n",
    "TRAIN_SET_PATH = \"nlp_project/data/processed/train_splits/labeled.conll\"\n",
    "DEV_SET_PATH = \"nlp_project/data/processed/dev.conll\""
   ]
  },
  {
   "cell_type": "code",
   "execution_count": null,
   "metadata": {
    "cell_id": "2e6ff25f59304b98b4db326014f20165",
    "deepnote_cell_type": "code",
    "deepnote_to_be_reexecuted": false,
    "execution_millis": 364,
    "execution_start": 1685032163007,
    "source_hash": "550f143f"
   },
   "outputs": [],
   "source": [
    "documents, doc_labels, _, _ = load_data(TRAIN_SET_PATH)\n",
    "dev_docs, dev_labels, _, _ = load_data(DEV_SET_PATH)\n",
    "\n",
    "\n",
    "pp_documents = []\n",
    "pp_doc_labels = []\n",
    "for words, labels in read_raw_data(PP_TRAIN_SET_PATH):\n",
    "    pp_documents.append(words)\n",
    "    pp_doc_labels.append(labels)"
   ]
  },
  {
   "cell_type": "code",
   "execution_count": null,
   "metadata": {
    "cell_id": "9a6bfe8cf3014a61bf0d2864bd266717",
    "deepnote_cell_type": "code",
    "deepnote_to_be_reexecuted": false,
    "execution_millis": 2646,
    "execution_start": 1685021370567,
    "source_hash": "6a106649"
   },
   "outputs": [],
   "source": [
    "model = Train2BiLSTM(hidden_size=10)\n",
    "model.fit(train=(documents, doc_labels),\n",
    "          train2=(pp_documents, pp_doc_labels),\n",
    "          print_metrics=False, \n",
    "          learning_rate=0.001,\n",
    "          dev = (dev_docs, dev_labels),\n",
    "          epochs=20)"
   ]
  },
  {
   "cell_type": "code",
   "execution_count": null,
   "metadata": {
    "cell_id": "1c24c4d6205b42dc9fb9eaa81c4bd520",
    "deepnote_cell_type": "code",
    "deepnote_to_be_reexecuted": false,
    "execution_millis": 3,
    "execution_start": 1685035280876,
    "source_hash": "bae26b0f"
   },
   "outputs": [],
   "source": [
    "lr001_lininterpa_dev_f1 = [0.000,0.591,0.639,0.647,0.654,0.663,0.663,0.661,0.662,0.669,0.666,0.671,0.673,0.668,0.672,0.674,0.672,0.667,0.668]"
   ]
  },
  {
   "cell_type": "code",
   "execution_count": null,
   "metadata": {
    "cell_id": "73b137c8a6a148db81dd4137cd69b938",
    "deepnote_cell_type": "code",
    "deepnote_to_be_reexecuted": false,
    "execution_millis": 1371743,
    "execution_start": 1685044108993,
    "source_hash": "10fd3f50"
   },
   "outputs": [],
   "source": [
    "model2 = Train2BiLSTM(hidden_size=10)\n",
    "model2.fit(train=(documents, doc_labels),\n",
    "          train2=(pp_documents, pp_doc_labels),\n",
    "          print_metrics=False, \n",
    "          learning_rate=0.003,\n",
    "          dev = (dev_docs, dev_labels),\n",
    "          epochs=20,\n",
    "          alpha=0.5)\n",
    "\n",
    "# saving model 2:\n",
    "torch.save(model2, \"nlp_project/models/Experiment2.pt\")"
   ]
  },
  {
   "cell_type": "code",
   "execution_count": null,
   "metadata": {
    "cell_id": "106e5e66dd844758b3913c294fd4cab8",
    "deepnote_cell_type": "code",
    "deepnote_to_be_reexecuted": false,
    "execution_millis": 1,
    "execution_start": 1685035309366,
    "source_hash": "f01bdd26"
   },
   "outputs": [],
   "source": [
    "lr003_a5_dev_f1 = [0.000,0.595,0.634,0.649,0.655,0.658,0.669,0.667,0.671,0.669,0.671,0.675,0.674,0.671,0.670,0.676,0.678,0.673,0.677,0.674]"
   ]
  },
  {
   "cell_type": "code",
   "execution_count": null,
   "metadata": {
    "cell_id": "431780dd482f4f5b9080c2dd4007b0e8",
    "deepnote_cell_type": "code",
    "deepnote_to_be_reexecuted": false,
    "execution_millis": 223640,
    "execution_start": 1685041795797,
    "source_hash": "db684873"
   },
   "outputs": [],
   "source": [
    "model3 = Train2BiLSTM(hidden_size=10)\n",
    "model3.fit(train=(documents, doc_labels),\n",
    "          train2=(pp_documents, pp_doc_labels),\n",
    "          print_metrics=False, \n",
    "          learning_rate=0.003,\n",
    "          dev = (dev_docs, dev_labels),\n",
    "          epochs=20,\n",
    "          alpha=0.1)"
   ]
  },
  {
   "cell_type": "code",
   "execution_count": null,
   "metadata": {
    "cell_id": "c8c16612ce094f9fadbef62702829823",
    "deepnote_cell_type": "code",
    "deepnote_to_be_reexecuted": false,
    "execution_millis": 1,
    "execution_start": 1685035133750,
    "source_hash": "cae0bd15"
   },
   "outputs": [],
   "source": [
    "lr003_a1_dev_f1 = model3.dev_f1_log"
   ]
  },
  {
   "cell_type": "code",
   "execution_count": null,
   "metadata": {
    "cell_id": "d03403c4218a47929b97be54cb436354",
    "deepnote_cell_type": "code",
    "deepnote_to_be_reexecuted": false,
    "execution_millis": 2,
    "execution_start": 1685036004852,
    "source_hash": "cd68ea2d"
   },
   "outputs": [],
   "source": [
    "dev_f1s = [lr001_lininterpa_dev_f1[:19], lr003_a5_dev_f1[:19], lr003_a1_dev_f1[:19]]\n",
    "\n",
    "dev_f1s"
   ]
  },
  {
   "cell_type": "markdown",
   "metadata": {
    "created_in_deepnote_cell": true,
    "deepnote_cell_type": "markdown"
   },
   "source": [
    "<a style='text-decoration:none;line-height:16px;display:flex;color:#5B5B62;padding:10px;justify-content:end;' href='https://deepnote.com?utm_source=created-in-deepnote-cell&projectId=b2f14aee-af04-4db5-af55-57a3a58b9f40' target=\"_blank\">\n",
    "<img alt='Created in deepnote.com' style='display:inline;max-height:16px;margin:0px;margin-right:7.5px;' src='data:image/svg+xml;base64,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' > </img>\n",
    "Created in <span style='font-weight:600;margin-left:4px;'>Deepnote</span></a>"
   ]
  }
 ],
 "metadata": {
  "deepnote": {},
  "deepnote_execution_queue": [],
  "deepnote_notebook_id": "7331828764d347c18a9120b83ad63f8d",
  "kernelspec": {
   "display_name": "Python 3 (ipykernel)",
   "language": "python",
   "name": "python3"
  },
  "language_info": {
   "codemirror_mode": {
    "name": "ipython",
    "version": 3
   },
   "file_extension": ".py",
   "mimetype": "text/x-python",
   "name": "python",
   "nbconvert_exporter": "python",
   "pygments_lexer": "ipython3",
   "version": "3.7.7"
  }
 },
 "nbformat": 4,
 "nbformat_minor": 1
}
