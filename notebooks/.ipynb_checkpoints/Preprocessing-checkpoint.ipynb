{
 "cells": [
  {
   "cell_type": "markdown",
   "metadata": {
    "cell_id": "82361bfd-728f-4826-bad1-e0a67f06bb2c",
    "deepnote_cell_type": "text-cell-h2",
    "formattedRanges": [],
    "is_collapsed": false
   },
   "source": [
    "## Preprocessing the raw data "
   ]
  },
  {
   "cell_type": "markdown",
   "metadata": {
    "cell_id": "be1e719beade458e86719bb66c6927f1",
    "deepnote_cell_type": "text-cell-p",
    "formattedRanges": [],
    "is_collapsed": false
   },
   "source": [
    "Run this notebook to generate the processed data and put it (if it doesn't exist) into the data/preprocessed folder."
   ]
  },
  {
   "cell_type": "code",
   "execution_count": null,
   "metadata": {
    "cell_id": "ccd60e94905c414987081ee67eb03726",
    "deepnote_cell_type": "code",
    "deepnote_to_be_reexecuted": false,
    "execution_millis": 31,
    "execution_start": 1680079357442,
    "source_hash": "df02bdc9"
   },
   "outputs": [],
   "source": [
    "import pandas as pd\n",
    "import numpy as np\n",
    "import codecs\n",
    "import os\n",
    "\n",
    "import sys\n",
    "sys.path.append(\"nlp_project\")\n",
    "from read_write_data import read_raw_data, write_conll, read_processed_data"
   ]
  },
  {
   "cell_type": "code",
   "execution_count": null,
   "metadata": {
    "cell_id": "d112b8e486ab4c8ba5e9c2c1a9246a0e",
    "deepnote_cell_type": "code",
    "deepnote_to_be_reexecuted": false,
    "execution_millis": 9236,
    "execution_start": 1680079357518,
    "source_hash": "a7f3d827"
   },
   "outputs": [],
   "source": [
    "import gensim.models\n",
    "\n",
    "GoogleEmbs = gensim.models.KeyedVectors.load_word2vec_format(\n",
    "                                'nlp_project/models/GoogleNews-50k.bin', binary=True)\n",
    "\n",
    "print('loading finished')"
   ]
  },
  {
   "cell_type": "code",
   "execution_count": null,
   "metadata": {
    "cell_id": "9adfe49a8cec4725a62e21afb7e80b0d",
    "deepnote_cell_type": "code",
    "deepnote_to_be_reexecuted": true,
    "execution_millis": 282163,
    "execution_start": 1680079084681,
    "source_hash": "dd7b6718"
   },
   "outputs": [],
   "source": [
    "DATA_PATH = \"nlp_project/data/raw/\"\n",
    "SAVE_PATH = \"nlp_project/data/processed/\"\n",
    "MAX_SIZE = 100  # sentences longer than this will be discarded (for padding purposes)"
   ]
  },
  {
   "cell_type": "code",
   "execution_count": null,
   "metadata": {
    "cell_id": "6b0896caceda4ae698055e474fac283f",
    "deepnote_cell_type": "code",
    "deepnote_to_be_reexecuted": true,
    "execution_millis": 282163,
    "execution_start": 1680079084682,
    "source_hash": "f222dec4"
   },
   "outputs": [],
   "source": [
    "def into_df(filename):\n",
    "    return pd.DataFrame(read_raw_data(DATA_PATH+filename))"
   ]
  },
  {
   "cell_type": "code",
   "execution_count": null,
   "metadata": {
    "cell_id": "0d1b15a5d74545eabd824c6926dcfa55",
    "deepnote_cell_type": "code",
    "deepnote_table_loading": false,
    "deepnote_table_state": {
     "filters": [],
     "pageIndex": 0,
     "pageSize": 25,
     "sortBy": []
    },
    "deepnote_to_be_reexecuted": true,
    "execution_millis": 282162,
    "execution_start": 1680079084683,
    "source_hash": "92177553"
   },
   "outputs": [],
   "source": [
    "def transform_labels(df):\n",
    "    df['isNE'] = df.loc[:, 1].copy()\n",
    "    for i, sentence in enumerate(df[1]):\n",
    "        new_sentence = []\n",
    "        for word in sentence:\n",
    "            if word == \"O\": \n",
    "                new_sentence.append(0)\n",
    "            else: \n",
    "                new_sentence.append(1)\n",
    "        df['isNE'].iat[i] = new_sentence\n",
    "    return df"
   ]
  },
  {
   "cell_type": "markdown",
   "metadata": {
    "cell_id": "b289a16c938f433da5a87a6a66399260",
    "deepnote_cell_type": "text-cell-p",
    "formattedRanges": [],
    "is_collapsed": false
   },
   "source": [
    "Function to add word embeddings to the dataframe:"
   ]
  },
  {
   "cell_type": "code",
   "execution_count": null,
   "metadata": {
    "cell_id": "cb9a0f116ff349729084ba0e132e58df",
    "deepnote_cell_type": "code",
    "deepnote_to_be_reexecuted": true,
    "execution_millis": 282260,
    "execution_start": 1680079084683,
    "source_hash": "ea71bda1"
   },
   "outputs": [],
   "source": [
    "def word_embeddings(df):\n",
    "    sentences = df[0]\n",
    "    google_embedding = []\n",
    "    for sentence in sentences:\n",
    "        embeddings = []\n",
    "        for word in sentence:\n",
    "            try:\n",
    "                embeddings.append(GoogleEmbs.get_vector(word).astype(float))\n",
    "            except KeyError:\n",
    "                embeddings.append(np.zeros(300).astype(float))\n",
    "        google_embedding.append(embeddings)\n",
    "    df = df.assign(google_embeddings=google_embedding)\n",
    "    return df"
   ]
  },
  {
   "cell_type": "code",
   "execution_count": null,
   "metadata": {
    "cell_id": "3901cb452f2a40e1b6723465e1a00936",
    "deepnote_cell_type": "code",
    "deepnote_to_be_reexecuted": true,
    "execution_millis": 282270,
    "execution_start": 1680079084684,
    "source_hash": "237455e0"
   },
   "outputs": [],
   "source": [
    "def restrict_size(df, max_size):\n",
    "    df = df.assign(length=[len(s) for s in df[0]])\n",
    "    df = df.loc[df['length'] <= max_size]\n",
    "    df = df.drop('length', axis=1)\n",
    "    return df"
   ]
  },
  {
   "cell_type": "markdown",
   "metadata": {
    "cell_id": "c1e9215fd30548c1b24cd8c08f9c3f66",
    "deepnote_cell_type": "text-cell-p",
    "formattedRanges": [],
    "is_collapsed": false
   },
   "source": [
    "Training sets:"
   ]
  },
  {
   "cell_type": "code",
   "execution_count": null,
   "metadata": {
    "cell_id": "eb03b97ded9c452c847c5f7d3c5e4d87",
    "deepnote_cell_type": "code",
    "deepnote_to_be_reexecuted": true,
    "execution_millis": 282375,
    "execution_start": 1680079084684,
    "source_hash": "c331347e"
   },
   "outputs": [],
   "source": [
    "ans = into_df('en_ewt_nn_train_answers_only.conll').assign(domain='answers')\n",
    "revs = into_df('en_ewt_nn_train_reviews_only.conll').assign(domain='reviews')\n",
    "em = into_df('en_ewt_nn_train_email_only.conll').assign(domain='email')\n",
    "news = into_df('en_ewt_nn_train_newsgroup_only.conll').assign(domain='newsgroup')\n",
    "web = into_df('en_ewt_nn_train_weblogs_only.conll').assign(domain='weblogs')\n",
    "\n",
    "total_train = pd.DataFrame()\n",
    "total_train = total_train.append([ans,revs,em,news,web])\n",
    "total_train = transform_labels(total_train)\n",
    "total_train = restrict_size(total_train, MAX_SIZE)\n",
    "\n",
    "save_path = SAVE_PATH+'train.conll'\n",
    "if not os.path.exists(save_path):\n",
    "    write_conll(total_train, save_path)"
   ]
  },
  {
   "cell_type": "markdown",
   "metadata": {
    "cell_id": "c043d23049bd4e28ac9c16d8b25042db",
    "deepnote_cell_type": "text-cell-p",
    "formattedRanges": [],
    "is_collapsed": false
   },
   "source": [
    "Dev sets:"
   ]
  },
  {
   "cell_type": "code",
   "execution_count": null,
   "metadata": {
    "cell_id": "6ff644f370ce400986b2271ad6f2d53d",
    "deepnote_cell_type": "code",
    "deepnote_to_be_reexecuted": true,
    "execution_millis": 282455,
    "execution_start": 1680079084685,
    "source_hash": "d7b41a8d"
   },
   "outputs": [],
   "source": [
    "ans = into_df('en_ewt_nn_answers_dev.conll').assign(domain='answers')\n",
    "revs = into_df('en_ewt_nn_reviews_dev.conll').assign(domain='reviews')\n",
    "em = into_df('en_ewt_nn_email_dev.conll').assign(domain='email')\n",
    "news = into_df('en_ewt_nn_newsgroup_dev.conll').assign(domain='newsgroup')\n",
    "web = into_df('en_ewt_nn_weblogs_dev.conll').assign(domain='weblogs')\n",
    "\n",
    "total_dev = pd.DataFrame()\n",
    "total_dev = total_dev.append([ans,revs,em,news,web])\n",
    "total_dev = transform_labels(total_dev)\n",
    "total_dev = restrict_size(total_dev, MAX_SIZE)\n",
    "\n",
    "save_path = SAVE_PATH+'dev.conll'\n",
    "if not os.path.exists(save_path):\n",
    "    write_conll(total_dev, save_path)"
   ]
  },
  {
   "cell_type": "markdown",
   "metadata": {
    "cell_id": "c9cd788ad0dd4e24bd5fff53d4e53f99",
    "deepnote_cell_type": "text-cell-p",
    "formattedRanges": [],
    "is_collapsed": false
   },
   "source": [
    "Test sets:"
   ]
  },
  {
   "cell_type": "code",
   "execution_count": null,
   "metadata": {
    "cell_id": "4494a8296170490f9e7ff505ce6b828d",
    "deepnote_cell_type": "code",
    "deepnote_to_be_reexecuted": true,
    "execution_millis": 282457,
    "execution_start": 1680079084685,
    "source_hash": "eed9ad65"
   },
   "outputs": [],
   "source": [
    "ans = into_df('en_ewt_nn_answers_test.conll').assign(domain='answers')\n",
    "revs = into_df('en_ewt_nn_reviews_test.conll').assign(domain='reviews')\n",
    "em = into_df('en_ewt_nn_email_test.conll').assign(domain='email')\n",
    "news = into_df('en_ewt_nn_newsgroup_test.conll').assign(domain='newsgroup')\n",
    "web = into_df('en_ewt_nn_weblogs_test.conll').assign(domain='weblogs')\n",
    "\n",
    "total_test = pd.DataFrame()\n",
    "total_test = total_test.append([ans,revs,em,news,web])\n",
    "total_test = transform_labels(total_test)\n",
    "total_test = restrict_size(total_test, MAX_SIZE)\n",
    "\n",
    "save_path = SAVE_PATH+'test.conll'\n",
    "if not os.path.exists(save_path):\n",
    "    write_conll(total_test, save_path)"
   ]
  },
  {
   "cell_type": "code",
   "execution_count": null,
   "metadata": {
    "cell_id": "e75c010cef27470d8429998dddfe2932",
    "deepnote_cell_type": "code",
    "deepnote_to_be_reexecuted": true,
    "execution_millis": 282457,
    "execution_start": 1680079084686,
    "source_hash": "6dd32355"
   },
   "outputs": [],
   "source": [
    "len(list(read_processed_data(os.path.join(SAVE_PATH, 'train.conll'))))"
   ]
  },
  {
   "cell_type": "markdown",
   "metadata": {
    "cell_id": "d479ea533b604ad88c459dc4b6536a9f",
    "deepnote_cell_type": "text-cell-p",
    "formattedRanges": [],
    "is_collapsed": false
   },
   "source": [
    "Checking lenghts to make sure data was loaded correctly:"
   ]
  },
  {
   "cell_type": "markdown",
   "metadata": {
    "created_in_deepnote_cell": true,
    "deepnote_cell_type": "markdown"
   },
   "source": [
    "<a style='text-decoration:none;line-height:16px;display:flex;color:#5B5B62;padding:10px;justify-content:end;' href='https://deepnote.com?utm_source=created-in-deepnote-cell&projectId=b2f14aee-af04-4db5-af55-57a3a58b9f40' target=\"_blank\">\n",
    "<img alt='Created in deepnote.com' style='display:inline;max-height:16px;margin:0px;margin-right:7.5px;' src='data:image/svg+xml;base64,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' > </img>\n",
    "Created in <span style='font-weight:600;margin-left:4px;'>Deepnote</span></a>"
   ]
  }
 ],
 "metadata": {
  "deepnote": {},
  "deepnote_execution_queue": [],
  "deepnote_notebook_id": "3ab7df0390b748129bd13ca65879c9f9",
  "kernelspec": {
   "display_name": "Python 3 (ipykernel)",
   "language": "python",
   "name": "python3"
  },
  "language_info": {
   "codemirror_mode": {
    "name": "ipython",
    "version": 3
   },
   "file_extension": ".py",
   "mimetype": "text/x-python",
   "name": "python",
   "nbconvert_exporter": "python",
   "pygments_lexer": "ipython3",
   "version": "3.7.7"
  }
 },
 "nbformat": 4,
 "nbformat_minor": 1
}
