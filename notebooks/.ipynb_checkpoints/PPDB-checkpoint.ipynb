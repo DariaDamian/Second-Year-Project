{
 "cells": [
  {
   "cell_type": "code",
   "execution_count": null,
   "metadata": {
    "cell_id": "b8d083247f9548b097e39372c64b1410",
    "deepnote_cell_type": "code",
    "deepnote_to_be_reexecuted": false,
    "execution_millis": 12941,
    "execution_start": 1683462683450,
    "source_hash": "718f1d7e"
   },
   "outputs": [],
   "source": [
    "import codecs\n",
    "from dataclasses import dataclass\n",
    "from typing import List, Dict, Any\n",
    "\n",
    "import numpy as np\n",
    "import pandas as pd\n",
    "import torch\n",
    "import torch.nn.functional as F\n",
    "from torch import Tensor\n",
    "from torch import nn\n",
    "import time\n",
    "\n",
    "import random\n",
    "random.seed(0)\n",
    "torch.manual_seed(0)\n",
    "\n",
    "# from transformers import BertTokenizer, BertModel\n",
    "# bert_tokenizer = BertTokenizer.from_pretrained(\"bert-base-cased\")\n",
    "# bert_model = BertModel.from_pretrained(\"bert-base-cased\")\n",
    "import matplotlib.pyplot as plt\n",
    "\n",
    "import sys\n",
    "sys.path.insert(1, '/work/nlp-project')\n",
    "from scripts.read_write_data import read_processed_data, write_baseline_pred\n",
    "from scripts.evaluation_functions import f1_score, tag_accuracy\n",
    "from models.classes import DataIterator, Batch\n",
    "\n",
    "# import gensim.models\n",
    "# GoogleEmbs = gensim.models.KeyedVectors.load_word2vec_format(\n",
    "#                                 '/work/nlp-project/models/GoogleNews-50k.bin', binary=True)\n",
    "\n",
    "import matplotlib.pyplot as plt"
   ]
  },
  {
   "cell_type": "code",
   "execution_count": null,
   "metadata": {
    "cell_id": "0415cbbd5ca041789ca0539104df54be",
    "deepnote_cell_type": "code",
    "deepnote_to_be_reexecuted": false,
    "execution_millis": 236,
    "execution_start": 1683462696442,
    "source_hash": "24b1a04"
   },
   "outputs": [],
   "source": [
    "TRAIN_PATH = \"nlp-project/data/processed/train_splits/labeled.conll\"\n",
    "\n",
    "# Loading data\n",
    "\n",
    "x_train = []\n",
    "y_train = []\n",
    "for words, labels, _, _ in read_processed_data(TRAIN_PATH):\n",
    "    x_train.append(words)\n",
    "    y_train.append(labels)\n"
   ]
  },
  {
   "cell_type": "code",
   "execution_count": null,
   "metadata": {
    "cell_id": "4ad965c1008b4d37860d90fae74ad248",
    "deepnote_cell_type": "code",
    "deepnote_to_be_reexecuted": false,
    "execution_millis": 4,
    "execution_start": 1683462696685,
    "source_hash": "c059eb45"
   },
   "outputs": [],
   "source": [
    "x_train[:10]"
   ]
  },
  {
   "cell_type": "code",
   "execution_count": null,
   "metadata": {
    "cell_id": "8fa846122b2a4e08bd231cc0c1651184",
    "deepnote_cell_type": "code",
    "deepnote_table_loading": false,
    "deepnote_table_state": {
     "filters": [],
     "pageIndex": 3,
     "pageSize": 10,
     "sortBy": []
    },
    "deepnote_to_be_reexecuted": false,
    "execution_millis": 209,
    "execution_start": 1683462696740,
    "source_hash": "7e4e4a94"
   },
   "outputs": [],
   "source": [
    "ppdb_file=pd.read_csv('/work/nlp-project/models/ppdb-2.0-s-lexical.csv')\n",
    "ppdb_file"
   ]
  },
  {
   "cell_type": "code",
   "execution_count": null,
   "metadata": {
    "cell_id": "974f6caef608491a8d8200a1bbc79ad6",
    "deepnote_cell_type": "code",
    "deepnote_to_be_reexecuted": false,
    "execution_millis": 28,
    "execution_start": 1683462696988,
    "source_hash": "6ebe3559"
   },
   "outputs": [],
   "source": [
    "ppdb_file = ppdb_file.drop_duplicates(subset=['word1', 'word2'])"
   ]
  },
  {
   "cell_type": "code",
   "execution_count": null,
   "metadata": {
    "cell_id": "e5adaf0719b540d6acc64990238bba99",
    "deepnote_cell_type": "code",
    "deepnote_to_be_reexecuted": false,
    "execution_millis": 223,
    "execution_start": 1683462697095,
    "source_hash": "d15cc63a"
   },
   "outputs": [],
   "source": [
    "ppdb_file['word1'] = ppdb_file['word1'].astype(str).str.strip().str.lower()\n",
    "ppdb_file['word2'] = ppdb_file['word2'].astype(str).str.strip().str.lower()\n"
   ]
  },
  {
   "cell_type": "code",
   "execution_count": null,
   "metadata": {
    "cell_id": "f78ca2a9c90f4dda8077b3db71b0b3dc",
    "deepnote_cell_type": "code",
    "deepnote_to_be_reexecuted": false,
    "execution_millis": 3,
    "execution_start": 1683462697315,
    "source_hash": "e8dc6a8a"
   },
   "outputs": [],
   "source": [
    "\n",
    "def generate_paraphrases(sentence, ppdb_file, max_paraphrases=10):\n",
    "    paraphrases = set()\n",
    "    for index, row in ppdb_file.iterrows():\n",
    "        if row['word1'] in sentence:\n",
    "            paraphrases.add(sentence.replace(row['word1'], row['word2']))\n",
    "        elif row['word2'] in sentence:\n",
    "            paraphrases.add(sentence.replace(row['word2'], row['word1']))\n",
    "        if len(paraphrases) >= max_paraphrases:\n",
    "            break\n",
    "    return list(paraphrases)\n"
   ]
  },
  {
   "cell_type": "code",
   "execution_count": null,
   "metadata": {
    "cell_id": "740e075098604357af6b89282f032288",
    "deepnote_cell_type": "code",
    "deepnote_to_be_reexecuted": false,
    "execution_millis": 2313,
    "execution_start": 1683462697316,
    "source_hash": "99672c4f"
   },
   "outputs": [],
   "source": [
    "sentence = \"I work on the project.\"\n",
    "paraphrased_sentences = generate_paraphrases(sentence, ppdb_file)\n",
    "print(paraphrased_sentences)"
   ]
  },
  {
   "cell_type": "code",
   "execution_count": null,
   "metadata": {
    "cell_id": "b8b04f782ebe4bc5b7c0cdb165c8c1aa",
    "deepnote_cell_type": "code",
    "deepnote_to_be_reexecuted": false,
    "execution_millis": 576,
    "execution_start": 1683462737330,
    "source_hash": "7b10a559"
   },
   "outputs": [],
   "source": [
    "TRAIN_PATH = \"nlp-project/data/processed/train.conll\"\n",
    "DEV_PATH = \"nlp-project/data/processed/dev.conll\"\n",
    "TEST_PATH = \"nlp-project/data/processed/test.conll\"\n",
    "\n",
    "# Loading data\n",
    "\n",
    "x_train = []\n",
    "y_train = []\n",
    "for words, labels, _, _ in read_processed_data(TRAIN_PATH):\n",
    "    x_train.append(words)\n",
    "    y_train.append(labels)\n",
    "\n",
    "x_dev = []\n",
    "y_dev = []\n",
    "for words, labels, _, _ in read_processed_data(DEV_PATH):\n",
    "    x_dev.append(words)\n",
    "    y_dev.append(labels)"
   ]
  },
  {
   "cell_type": "code",
   "execution_count": null,
   "metadata": {
    "cell_id": "04b8c839d525421483975211415f2bb8",
    "deepnote_cell_type": "code",
    "deepnote_to_be_reexecuted": false,
    "execution_millis": 1,
    "execution_start": 1683462784784,
    "source_hash": "3ff52be"
   },
   "outputs": [],
   "source": [
    "ppdb_file.head()"
   ]
  },
  {
   "cell_type": "code",
   "execution_count": null,
   "metadata": {
    "cell_id": "5de2befde3d7426aa2ec478b274239a6",
    "deepnote_cell_type": "code",
    "deepnote_to_be_reexecuted": false,
    "execution_millis": 3,
    "execution_start": 1683462789641,
    "source_hash": "7f00663a"
   },
   "outputs": [],
   "source": [
    "def paraphrase_word(word):\n",
    "    for w1, w2 in zip(ppdb_file['word1'], ppdb_file['word2']):\n",
    "        if word.casefold() == w1.casefold():\n",
    "            return w2\n",
    "        elif word.casefold() == w2.casefold():\n",
    "            return w1\n",
    "    return None"
   ]
  },
  {
   "cell_type": "code",
   "execution_count": null,
   "metadata": {
    "cell_id": "7c59435b6c9f4eb5857477cb085620f1",
    "deepnote_cell_type": "code",
    "deepnote_to_be_reexecuted": true,
    "execution_millis": 161221387,
    "execution_start": 1683301505636,
    "source_hash": "96df7a5b"
   },
   "outputs": [],
   "source": [
    "# def paraphrase_word_options(word):\n",
    "#     options = []\n",
    "#     scores = []\n",
    "#     for w1, w2, score in zip(ppdb_file['word1'], ppdb_file['word2'], ppdb_file['score']):\n",
    "#         if word.casefold() == w1.casefold():\n",
    "#             options.append(w2)\n",
    "#             scores.append(score)\n",
    "#         elif word.casefold() == w2.casefold():\n",
    "#             options.append(w1)\n",
    "#             scores.append(score)\n",
    "\n",
    "#     return options, scores\n",
    "        "
   ]
  },
  {
   "cell_type": "code",
   "execution_count": null,
   "metadata": {
    "cell_id": "dba199c7b1284394aabfce99e43174e5",
    "deepnote_cell_type": "code",
    "deepnote_to_be_reexecuted": false,
    "execution_millis": 1211795,
    "execution_start": 1683462793204,
    "source_hash": "33738ece"
   },
   "outputs": [],
   "source": [
    "NEs= []\n",
    "for sentence, labels in zip(x_train,y_train):\n",
    "    for word, label in zip(sentence, labels):\n",
    "        if label == '1':\n",
    "            NEs.append(word)\n",
    "\n",
    "paraphrases = []\n",
    "for NE in NEs:\n",
    "    paraphrase = paraphrase_word(NE)\n",
    "    paraphrases.append(paraphrase)\n",
    "    # print(NE, paraphrase)\n",
    "print(f\"Proportion of NEs with no paraphrase: {np.mean(np.array(paraphrases) == None)}\")\n",
    "\n"
   ]
  },
  {
   "cell_type": "markdown",
   "metadata": {
    "cell_id": "7957ff53e17c44e29ae6435ced4826e3",
    "deepnote_cell_type": "text-cell-p",
    "formattedRanges": []
   },
   "source": [
    "Proportion of NEs with no paraphrase: 0.629"
   ]
  },
  {
   "cell_type": "code",
   "execution_count": null,
   "metadata": {
    "cell_id": "8f207e5710ff4e66af51ac39477d87ba",
    "deepnote_cell_type": "code",
    "deepnote_to_be_reexecuted": false,
    "execution_millis": 105,
    "execution_start": 1683466281283,
    "source_hash": "f513cc77"
   },
   "outputs": [],
   "source": [
    "for NE, p in zip(NEs, paraphrases):\n",
    "    if p != '--------':\n",
    "        print(NE, p)"
   ]
  },
  {
   "cell_type": "markdown",
   "metadata": {
    "cell_id": "4942f338935c43afbbfb64c518382306",
    "deepnote_cell_type": "text-cell-p",
    "formattedRanges": []
   },
   "source": [
    "Building paraphrased sentences:"
   ]
  },
  {
   "cell_type": "code",
   "execution_count": null,
   "metadata": {
    "cell_id": "df936d3afd234fbfb81a285b318c5f91",
    "deepnote_cell_type": "code",
    "deepnote_to_be_reexecuted": false,
    "execution_millis": 1930671,
    "execution_start": 1683466286850,
    "source_hash": "fd7d0020"
   },
   "outputs": [],
   "source": [
    "p_train = []\n",
    "for sentence in x_train:\n",
    "    p_sentence = []\n",
    "    for word in sentence:\n",
    "        p_word = paraphrase_word(word)\n",
    "        if p_word is None:\n",
    "            p_sentence.append(word)\n",
    "        else:\n",
    "            p_sentence.append(p_word)\n",
    "    p_train.append(p_sentence)"
   ]
  },
  {
   "cell_type": "code",
   "execution_count": null,
   "metadata": {
    "cell_id": "d7b3d96c9f564b1cac1af8e3b242c96c",
    "deepnote_cell_type": "code",
    "deepnote_to_be_reexecuted": false,
    "execution_millis": 483,
    "execution_start": 1683621155073,
    "source_hash": "dfa5acd8"
   },
   "outputs": [],
   "source": [
    "p_train"
   ]
  },
  {
   "cell_type": "code",
   "execution_count": null,
   "metadata": {
    "cell_id": "67b97a115bc14e889e0893901ee63932",
    "deepnote_cell_type": "code",
    "deepnote_to_be_reexecuted": true,
    "execution_millis": 143699431,
    "execution_start": 1683319027616,
    "source_hash": "d8699415"
   },
   "outputs": [],
   "source": [
    "np.array(p_train).shape, np.array(y_train).shape"
   ]
  },
  {
   "cell_type": "code",
   "execution_count": null,
   "metadata": {
    "cell_id": "7f6cd651ad8f45c2807aeb5c2bee3cfe",
    "deepnote_cell_type": "code",
    "deepnote_to_be_reexecuted": true,
    "execution_millis": 143058794,
    "execution_start": 1683319668253,
    "source_hash": "d178f084"
   },
   "outputs": [],
   "source": [
    "data = pd.DataFrame([p_train,y_train]).transpose()\n",
    "# write_baseline_pred(data, \"/work/nlp-project/data/paraphrased/train_labeled.conll\")"
   ]
  },
  {
   "cell_type": "code",
   "execution_count": null,
   "metadata": {
    "cell_id": "e801ac1e32fb443093e4819a54a22065",
    "deepnote_cell_type": "code"
   },
   "outputs": [],
   "source": [
    "# TRAIN_PATH = \"nlp-project/data/processed/train.conll\"\n",
    "TRAIN_PATH = \"/work/nlp-project/data/processed/train_splits/labeled.conll\"\n",
    "DEV_PATH = \"nlp-project/data/processed/dev.conll\"\n",
    "\n",
    "# Loading data\n",
    "x_train, y_train, _, _ = load_data(TRAIN_PATH)\n",
    "x_dev, y_dev, _, _ = load_data(DEV_PATH)"
   ]
  },
  {
   "cell_type": "markdown",
   "metadata": {
    "created_in_deepnote_cell": true,
    "deepnote_cell_type": "markdown"
   },
   "source": [
    "<a style='text-decoration:none;line-height:16px;display:flex;color:#5B5B62;padding:10px;justify-content:end;' href='https://deepnote.com?utm_source=created-in-deepnote-cell&projectId=b2f14aee-af04-4db5-af55-57a3a58b9f40' target=\"_blank\">\n",
    "<img alt='Created in deepnote.com' style='display:inline;max-height:16px;margin:0px;margin-right:7.5px;' src='data:image/svg+xml;base64,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' > </img>\n",
    "Created in <span style='font-weight:600;margin-left:4px;'>Deepnote</span></a>"
   ]
  }
 ],
 "metadata": {
  "deepnote": {},
  "deepnote_execution_queue": [],
  "deepnote_notebook_id": "688e851d608346d99db105278903f1fc",
  "kernelspec": {
   "display_name": "Python 3 (ipykernel)",
   "language": "python",
   "name": "python3"
  },
  "language_info": {
   "codemirror_mode": {
    "name": "ipython",
    "version": 3
   },
   "file_extension": ".py",
   "mimetype": "text/x-python",
   "name": "python",
   "nbconvert_exporter": "python",
   "pygments_lexer": "ipython3",
   "version": "3.7.7"
  }
 },
 "nbformat": 4,
 "nbformat_minor": 1
}
